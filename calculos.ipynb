{
 "cells": [
  {
   "cell_type": "code",
   "execution_count": 1,
   "metadata": {},
   "outputs": [],
   "source": [
    "# Importaciones\n",
    "import pandas as pd\n",
    "import matplotlib.pyplot as plt\n",
    "import numpy as np"
   ]
  },
  {
   "cell_type": "code",
   "execution_count": 2,
   "metadata": {},
   "outputs": [
    {
     "data": {
      "text/plain": [
       "0    424.00\n",
       "1     25.50\n",
       "2      3.00\n",
       "3     16.25\n",
       "4      4.00\n",
       "5     13.90\n",
       "6     19.33\n",
       "7     16.83\n",
       "8      7.50\n",
       "9     34.08\n",
       "Name: horas_entre_falla, dtype: float64"
      ]
     },
     "execution_count": 2,
     "metadata": {},
     "output_type": "execute_result"
    }
   ],
   "source": [
    "# Leer los datos del archivo Excel. Éstos se transforman en un Data Frame de Pandas\n",
    "data = pd.read_excel(\"data.xlsx\", header=None, names=['horas_entre_falla']).squeeze(True)\n",
    "\n",
    "# Muestra de los diez primeros datos. La unidad de tiempo es 'hora'\n",
    "data.head(10)"
   ]
  },
  {
   "cell_type": "code",
   "execution_count": 3,
   "metadata": {},
   "outputs": [
    {
     "data": {
      "text/plain": [
       "58    179.4\n",
       "59      5.5\n",
       "60      2.0\n",
       "61      2.0\n",
       "62     12.2\n",
       "63      0.6\n",
       "64     12.0\n",
       "65     95.9\n",
       "66     34.5\n",
       "67      2.3\n",
       "Name: horas_entre_falla, dtype: float64"
      ]
     },
     "execution_count": 3,
     "metadata": {},
     "output_type": "execute_result"
    }
   ],
   "source": [
    "# Muestra de los diez últimos datos. La unidad de tiempo es 'hora'\n",
    "data.tail(10)"
   ]
  },
  {
   "cell_type": "code",
   "execution_count": 4,
   "metadata": {},
   "outputs": [
    {
     "name": "stdout",
     "output_type": "stream",
     "text": [
      "El tipo de dato es float64\n"
     ]
    }
   ],
   "source": [
    "# Imprime el tipo dato\n",
    "print(f'El tipo de dato es {data.dtype}')"
   ]
  },
  {
   "cell_type": "code",
   "execution_count": 5,
   "metadata": {},
   "outputs": [
    {
     "name": "stdout",
     "output_type": "stream",
     "text": [
      "El número de fallas es 68\n"
     ]
    }
   ],
   "source": [
    "# El número de fallas de la máquina\n",
    "numero_fallas = len(data)\n",
    "print(f'El número de fallas es {numero_fallas}')"
   ]
  },
  {
   "cell_type": "code",
   "execution_count": 6,
   "metadata": {},
   "outputs": [
    {
     "name": "stdout",
     "output_type": "stream",
     "text": [
      "El número total de horas de funcionamiento es 3286.32\n"
     ]
    }
   ],
   "source": [
    "# Número total de horas que ha funcionado la máquina\n",
    "total_horas = data.sum()\n",
    "print(f'El número total de horas de funcionamiento es {round(total_horas, 2)}')"
   ]
  },
  {
   "cell_type": "code",
   "execution_count": 7,
   "metadata": {},
   "outputs": [
    {
     "name": "stdout",
     "output_type": "stream",
     "text": [
      "La cantidad promedio de horas de funcionamiento es 48.33 horas/falla\n"
     ]
    }
   ],
   "source": [
    "# Aquí se calcula la media de horas de funcionamiento entre fallas\n",
    "media = total_horas/numero_fallas\n",
    "print(f'La cantidad promedio de horas de funcionamiento es {round(media, 2)} horas/falla')"
   ]
  },
  {
   "cell_type": "code",
   "execution_count": 8,
   "metadata": {},
   "outputs": [
    {
     "name": "stdout",
     "output_type": "stream",
     "text": [
      "La media recalculada es 48.33 horas/falla\n"
     ]
    }
   ],
   "source": [
    "# Comprobación de la media: se obtiene la media usando un método propio de los Data Frames\n",
    "prueba_media = data.mean()\n",
    "print(f'La media recalculada es {round(prueba_media, 2)} horas/falla')"
   ]
  },
  {
   "cell_type": "code",
   "execution_count": 9,
   "metadata": {},
   "outputs": [
    {
     "name": "stdout",
     "output_type": "stream",
     "text": [
      "La tasa de fallo es 0.02 fallo/hora\n"
     ]
    }
   ],
   "source": [
    "# Tasa de fallo: cuantos fallos se dan por cada hora de funcionamiento\n",
    "tasa_fallo = numero_fallas/total_horas\n",
    "print(f'La tasa de fallo es {round(tasa_fallo, 2)} fallo/hora')"
   ]
  },
  {
   "cell_type": "code",
   "execution_count": 10,
   "metadata": {},
   "outputs": [
    {
     "name": "stdout",
     "output_type": "stream",
     "text": [
      "Nótese que la tasa de fallo es el recíproco de la media, es decir: tasa de fallo = 1/media = 0.02\n"
     ]
    }
   ],
   "source": [
    "print(f'Nótese que la tasa de fallo es el recíproco de la media, es decir: tasa de fallo = 1/media = {round(1/media, 2)}')"
   ]
  },
  {
   "cell_type": "code",
   "execution_count": 11,
   "metadata": {},
   "outputs": [
    {
     "data": {
      "image/png": "[encoded data removed]",
      "text/plain": [
       "<Figure size 504x360 with 1 Axes>"
      ]
     },
     "metadata": {
      "needs_background": "light"
     },
     "output_type": "display_data"
    }
   ],
   "source": [
    "# Gráfica de la función de densidad exponencial\n",
    "X = np.linspace(0, 500, 100)\n",
    "D = tasa_fallo*np.exp(-tasa_fallo*X)\n",
    "\n",
    "plt.figure(figsize=(7, 5))\n",
    "plt.plot(X, D)\n",
    "plt.title('Función de densidad exponencial')\n",
    "plt.xlabel('t (horas)')\n",
    "plt.ylabel('P(t)')\n",
    "plt.grid()\n",
    "plt.show()"
   ]
  },
  {
   "cell_type": "code",
   "execution_count": 12,
   "metadata": {},
   "outputs": [
    {
     "data": {
      "text/html": [
       "<div>\n",
       "<style scoped>\n",
       "    .dataframe tbody tr th:only-of-type {\n",
       "        vertical-align: middle;\n",
       "    }\n",
       "\n",
       "    .dataframe tbody tr th {\n",
       "        vertical-align: top;\n",
       "    }\n",
       "\n",
       "    .dataframe thead th {\n",
       "        text-align: right;\n",
       "    }\n",
       "</style>\n",
       "<table border=\"1\" class=\"dataframe\">\n",
       "  <thead>\n",
       "    <tr style=\"text-align: right;\">\n",
       "      <th></th>\n",
       "      <th>horas</th>\n",
       "      <th>probabilidad_falla</th>\n",
       "    </tr>\n",
       "  </thead>\n",
       "  <tbody>\n",
       "    <tr>\n",
       "      <th>0</th>\n",
       "      <td>0.0</td>\n",
       "      <td>0.000000</td>\n",
       "    </tr>\n",
       "    <tr>\n",
       "      <th>1</th>\n",
       "      <td>20.0</td>\n",
       "      <td>0.338891</td>\n",
       "    </tr>\n",
       "    <tr>\n",
       "      <th>2</th>\n",
       "      <td>40.0</td>\n",
       "      <td>0.562935</td>\n",
       "    </tr>\n",
       "    <tr>\n",
       "      <th>3</th>\n",
       "      <td>60.0</td>\n",
       "      <td>0.711052</td>\n",
       "    </tr>\n",
       "    <tr>\n",
       "      <th>4</th>\n",
       "      <td>80.0</td>\n",
       "      <td>0.808974</td>\n",
       "    </tr>\n",
       "    <tr>\n",
       "      <th>5</th>\n",
       "      <td>100.0</td>\n",
       "      <td>0.873711</td>\n",
       "    </tr>\n",
       "    <tr>\n",
       "      <th>6</th>\n",
       "      <td>120.0</td>\n",
       "      <td>0.916509</td>\n",
       "    </tr>\n",
       "    <tr>\n",
       "      <th>7</th>\n",
       "      <td>140.0</td>\n",
       "      <td>0.944804</td>\n",
       "    </tr>\n",
       "    <tr>\n",
       "      <th>8</th>\n",
       "      <td>160.0</td>\n",
       "      <td>0.963509</td>\n",
       "    </tr>\n",
       "    <tr>\n",
       "      <th>9</th>\n",
       "      <td>180.0</td>\n",
       "      <td>0.975876</td>\n",
       "    </tr>\n",
       "    <tr>\n",
       "      <th>10</th>\n",
       "      <td>200.0</td>\n",
       "      <td>0.984051</td>\n",
       "    </tr>\n",
       "    <tr>\n",
       "      <th>11</th>\n",
       "      <td>220.0</td>\n",
       "      <td>0.989456</td>\n",
       "    </tr>\n",
       "    <tr>\n",
       "      <th>12</th>\n",
       "      <td>240.0</td>\n",
       "      <td>0.993029</td>\n",
       "    </tr>\n",
       "    <tr>\n",
       "      <th>13</th>\n",
       "      <td>260.0</td>\n",
       "      <td>0.995392</td>\n",
       "    </tr>\n",
       "    <tr>\n",
       "      <th>14</th>\n",
       "      <td>280.0</td>\n",
       "      <td>0.996953</td>\n",
       "    </tr>\n",
       "    <tr>\n",
       "      <th>15</th>\n",
       "      <td>300.0</td>\n",
       "      <td>0.997986</td>\n",
       "    </tr>\n",
       "  </tbody>\n",
       "</table>\n",
       "</div>"
      ],
      "text/plain": [
       "    horas  probabilidad_falla\n",
       "0     0.0            0.000000\n",
       "1    20.0            0.338891\n",
       "2    40.0            0.562935\n",
       "3    60.0            0.711052\n",
       "4    80.0            0.808974\n",
       "5   100.0            0.873711\n",
       "6   120.0            0.916509\n",
       "7   140.0            0.944804\n",
       "8   160.0            0.963509\n",
       "9   180.0            0.975876\n",
       "10  200.0            0.984051\n",
       "11  220.0            0.989456\n",
       "12  240.0            0.993029\n",
       "13  260.0            0.995392\n",
       "14  280.0            0.996953\n",
       "15  300.0            0.997986"
      ]
     },
     "execution_count": 12,
     "metadata": {},
     "output_type": "execute_result"
    }
   ],
   "source": [
    "# Tabla de probabilidad (P(T <= t))\n",
    "\n",
    "horas = np.linspace(0, 300, 16)\n",
    "P = 1 - np.exp(-tasa_fallo*horas)\n",
    "d = {'horas': horas, 'probabilidad_falla': P}\n",
    "tabla = pd.DataFrame(data=d, index=None)\n",
    "tabla"
   ]
  },
  {
   "cell_type": "code",
   "execution_count": 13,
   "metadata": {},
   "outputs": [
    {
     "data": {
      "text/html": [
       "<div>\n",
       "<style scoped>\n",
       "    .dataframe tbody tr th:only-of-type {\n",
       "        vertical-align: middle;\n",
       "    }\n",
       "\n",
       "    .dataframe tbody tr th {\n",
       "        vertical-align: top;\n",
       "    }\n",
       "\n",
       "    .dataframe thead th {\n",
       "        text-align: right;\n",
       "    }\n",
       "</style>\n",
       "<table border=\"1\" class=\"dataframe\">\n",
       "  <thead>\n",
       "    <tr style=\"text-align: right;\">\n",
       "      <th></th>\n",
       "      <th>horas</th>\n",
       "      <th>probabilidad_falla</th>\n",
       "      <th>confiabilidad</th>\n",
       "    </tr>\n",
       "  </thead>\n",
       "  <tbody>\n",
       "    <tr>\n",
       "      <th>0</th>\n",
       "      <td>0.0</td>\n",
       "      <td>0.000000</td>\n",
       "      <td>1.000000</td>\n",
       "    </tr>\n",
       "    <tr>\n",
       "      <th>1</th>\n",
       "      <td>20.0</td>\n",
       "      <td>0.338891</td>\n",
       "      <td>0.661109</td>\n",
       "    </tr>\n",
       "    <tr>\n",
       "      <th>2</th>\n",
       "      <td>40.0</td>\n",
       "      <td>0.562935</td>\n",
       "      <td>0.437065</td>\n",
       "    </tr>\n",
       "    <tr>\n",
       "      <th>3</th>\n",
       "      <td>60.0</td>\n",
       "      <td>0.711052</td>\n",
       "      <td>0.288948</td>\n",
       "    </tr>\n",
       "    <tr>\n",
       "      <th>4</th>\n",
       "      <td>80.0</td>\n",
       "      <td>0.808974</td>\n",
       "      <td>0.191026</td>\n",
       "    </tr>\n",
       "  </tbody>\n",
       "</table>\n",
       "</div>"
      ],
      "text/plain": [
       "   horas  probabilidad_falla  confiabilidad\n",
       "0    0.0            0.000000       1.000000\n",
       "1   20.0            0.338891       0.661109\n",
       "2   40.0            0.562935       0.437065\n",
       "3   60.0            0.711052       0.288948\n",
       "4   80.0            0.808974       0.191026"
      ]
     },
     "execution_count": 13,
     "metadata": {},
     "output_type": "execute_result"
    }
   ],
   "source": [
    "tabla['confiabilidad'] = 1 - tabla['probabilidad_falla']\n",
    "tabla.head()"
   ]
  },
  {
   "cell_type": "code",
   "execution_count": 14,
   "metadata": {},
   "outputs": [
    {
     "data": {
      "text/html": [
       "<div>\n",
       "<style scoped>\n",
       "    .dataframe tbody tr th:only-of-type {\n",
       "        vertical-align: middle;\n",
       "    }\n",
       "\n",
       "    .dataframe tbody tr th {\n",
       "        vertical-align: top;\n",
       "    }\n",
       "\n",
       "    .dataframe thead th {\n",
       "        text-align: right;\n",
       "    }\n",
       "</style>\n",
       "<table border=\"1\" class=\"dataframe\">\n",
       "  <thead>\n",
       "    <tr style=\"text-align: right;\">\n",
       "      <th></th>\n",
       "      <th>horas</th>\n",
       "      <th>probabilidad_falla</th>\n",
       "      <th>confiabilidad</th>\n",
       "    </tr>\n",
       "  </thead>\n",
       "  <tbody>\n",
       "    <tr>\n",
       "      <th>0</th>\n",
       "      <td>0.0</td>\n",
       "      <td>0.000000</td>\n",
       "      <td>1.000000</td>\n",
       "    </tr>\n",
       "    <tr>\n",
       "      <th>1</th>\n",
       "      <td>20.0</td>\n",
       "      <td>0.338891</td>\n",
       "      <td>0.661109</td>\n",
       "    </tr>\n",
       "    <tr>\n",
       "      <th>2</th>\n",
       "      <td>40.0</td>\n",
       "      <td>0.562935</td>\n",
       "      <td>0.437065</td>\n",
       "    </tr>\n",
       "    <tr>\n",
       "      <th>3</th>\n",
       "      <td>60.0</td>\n",
       "      <td>0.711052</td>\n",
       "      <td>0.288948</td>\n",
       "    </tr>\n",
       "    <tr>\n",
       "      <th>4</th>\n",
       "      <td>80.0</td>\n",
       "      <td>0.808974</td>\n",
       "      <td>0.191026</td>\n",
       "    </tr>\n",
       "    <tr>\n",
       "      <th>5</th>\n",
       "      <td>100.0</td>\n",
       "      <td>0.873711</td>\n",
       "      <td>0.126289</td>\n",
       "    </tr>\n",
       "    <tr>\n",
       "      <th>6</th>\n",
       "      <td>120.0</td>\n",
       "      <td>0.916509</td>\n",
       "      <td>0.083491</td>\n",
       "    </tr>\n",
       "    <tr>\n",
       "      <th>7</th>\n",
       "      <td>140.0</td>\n",
       "      <td>0.944804</td>\n",
       "      <td>0.055196</td>\n",
       "    </tr>\n",
       "    <tr>\n",
       "      <th>8</th>\n",
       "      <td>160.0</td>\n",
       "      <td>0.963509</td>\n",
       "      <td>0.036491</td>\n",
       "    </tr>\n",
       "    <tr>\n",
       "      <th>9</th>\n",
       "      <td>180.0</td>\n",
       "      <td>0.975876</td>\n",
       "      <td>0.024124</td>\n",
       "    </tr>\n",
       "    <tr>\n",
       "      <th>10</th>\n",
       "      <td>200.0</td>\n",
       "      <td>0.984051</td>\n",
       "      <td>0.015949</td>\n",
       "    </tr>\n",
       "    <tr>\n",
       "      <th>11</th>\n",
       "      <td>220.0</td>\n",
       "      <td>0.989456</td>\n",
       "      <td>0.010544</td>\n",
       "    </tr>\n",
       "    <tr>\n",
       "      <th>12</th>\n",
       "      <td>240.0</td>\n",
       "      <td>0.993029</td>\n",
       "      <td>0.006971</td>\n",
       "    </tr>\n",
       "    <tr>\n",
       "      <th>13</th>\n",
       "      <td>260.0</td>\n",
       "      <td>0.995392</td>\n",
       "      <td>0.004608</td>\n",
       "    </tr>\n",
       "    <tr>\n",
       "      <th>14</th>\n",
       "      <td>280.0</td>\n",
       "      <td>0.996953</td>\n",
       "      <td>0.003047</td>\n",
       "    </tr>\n",
       "    <tr>\n",
       "      <th>15</th>\n",
       "      <td>300.0</td>\n",
       "      <td>0.997986</td>\n",
       "      <td>0.002014</td>\n",
       "    </tr>\n",
       "  </tbody>\n",
       "</table>\n",
       "</div>"
      ],
      "text/plain": [
       "    horas  probabilidad_falla  confiabilidad\n",
       "0     0.0            0.000000       1.000000\n",
       "1    20.0            0.338891       0.661109\n",
       "2    40.0            0.562935       0.437065\n",
       "3    60.0            0.711052       0.288948\n",
       "4    80.0            0.808974       0.191026\n",
       "5   100.0            0.873711       0.126289\n",
       "6   120.0            0.916509       0.083491\n",
       "7   140.0            0.944804       0.055196\n",
       "8   160.0            0.963509       0.036491\n",
       "9   180.0            0.975876       0.024124\n",
       "10  200.0            0.984051       0.015949\n",
       "11  220.0            0.989456       0.010544\n",
       "12  240.0            0.993029       0.006971\n",
       "13  260.0            0.995392       0.004608\n",
       "14  280.0            0.996953       0.003047\n",
       "15  300.0            0.997986       0.002014"
      ]
     },
     "execution_count": 14,
     "metadata": {},
     "output_type": "execute_result"
    }
   ],
   "source": [
    "tabla"
   ]
  },
  {
   "cell_type": "code",
   "execution_count": 15,
   "metadata": {},
   "outputs": [
    {
     "data": {
      "image/png": "[encoded data removed]",
      "text/plain": [
       "<Figure size 504x360 with 1 Axes>"
      ]
     },
     "metadata": {
      "needs_background": "light"
     },
     "output_type": "display_data"
    }
   ],
   "source": [
    "# Gráfica de la distribución de probabilidad\n",
    "\n",
    "plt.figure(figsize=(7, 5))\n",
    "plt.plot(tabla['horas'], tabla['probabilidad_falla'])\n",
    "plt.title('Función de distribución de probabilidad')\n",
    "plt.xlabel('t (horas)')\n",
    "plt.ylabel('P(T <= t)')\n",
    "plt.grid()\n",
    "plt.show()"
   ]
  },
  {
   "cell_type": "code",
   "execution_count": 16,
   "metadata": {},
   "outputs": [
    {
     "data": {
      "image/png": "[encoded data removed]",
      "text/plain": [
       "<Figure size 504x360 with 1 Axes>"
      ]
     },
     "metadata": {
      "needs_background": "light"
     },
     "output_type": "display_data"
    }
   ],
   "source": [
    "# Cálculo de la confiabilidad\n",
    "C = 1-P\n",
    "\n",
    "plt.figure(figsize=(7, 5))\n",
    "plt.plot(horas, C*100)\n",
    "plt.xlabel('t (horas)')\n",
    "plt.ylabel('Confiabilidad (%)')\n",
    "plt.title('Confiabilidad')\n",
    "plt.grid()\n",
    "plt.show()"
   ]
  },
  {
   "cell_type": "code",
   "execution_count": null,
   "metadata": {},
   "outputs": [],
   "source": []
  }
 ],
 "metadata": {
  "kernelspec": {
   "display_name": "base",
   "language": "python",
   "name": "python3"
  },
  "language_info": {
   "codemirror_mode": {
    "name": "ipython",
    "version": 3
   },
   "file_extension": ".py",
   "mimetype": "text/x-python",
   "name": "python",
   "nbconvert_exporter": "python",
   "pygments_lexer": "ipython3",
   "version": "3.9.12"
  }
 },
 "nbformat": 4,
 "nbformat_minor": 2
}
